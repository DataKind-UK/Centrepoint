{
 "cells": [
  {
   "cell_type": "code",
   "execution_count": 1,
   "metadata": {
    "collapsed": true
   },
   "outputs": [],
   "source": [
    "import pandas as pd\n",
    "import numpy as np\n",
    "\n",
    "%matplotlib inline\n",
    "import matplotlib.pyplot as plt"
   ]
  },
  {
   "cell_type": "markdown",
   "metadata": {},
   "source": [
    "Read in the data:"
   ]
  },
  {
   "cell_type": "code",
   "execution_count": 67,
   "metadata": {
    "collapsed": false
   },
   "outputs": [],
   "source": [
    "DATA_RAW = pd.read_csv('../source data/new data/CP ETL output.csv')\n",
    "DATA_ENG_WAL = DATA_RAW[(DATA_RAW['ONS_Census_2011'].str[0] == 'E') | (DATA_RAW['ONS_Census_2011'].str[0] == 'W')]\n",
    "data_train = DATA_ENG_WAL[DATA_ENG_WAL['LA_Population'].notnull()]\n",
    "#data_eng_nonan = data_eng_nonan[data_eng_nonan['Modifed_Total'].notnull()]\n",
    "\n",
    "#kick out the outlier: Milton Keynes\n",
    "data_train = data_train[data_train['ONS_Census_2011'] != 'E06000042']"
   ]
  },
  {
   "cell_type": "markdown",
   "metadata": {},
   "source": [
    "The simplest, dumbest approximation: calculate the average proportion of \"Total presented persons\" to \"Local authority population\"."
   ]
  },
  {
   "cell_type": "code",
   "execution_count": 68,
   "metadata": {
    "collapsed": false
   },
   "outputs": [
    {
     "name": "stdout",
     "output_type": "stream",
     "text": [
      "0.00120562004139\n"
     ]
    }
   ],
   "source": [
    "avg_homeless = (data_train['TOTAL_Presented_Young_ppl_2014']/data_train['LA_Population']).mean()\n",
    "print(avg_homeless)\n",
    "data_train['Presented_normalised'] = data_train['TOTAL_Presented_Young_ppl_2014']/data_train['LA_Population']\n",
    "data_train['prediction'] = avg_homeless*data_train['LA_Population']"
   ]
  },
  {
   "cell_type": "code",
   "execution_count": 69,
   "metadata": {
    "collapsed": true
   },
   "outputs": [],
   "source": [
    "data_notnull = data_train[data_train['TOTAL_Presented_Young_ppl_2014'].notnull()].reset_index()"
   ]
  },
  {
   "cell_type": "markdown",
   "metadata": {},
   "source": [
    "\"Predict\" the number of _presented_ persons as the (national) average homeless rate times local authority population: (`notnull()` is there because we are only interested in existing data, as we want to compare our prediction with them)"
   ]
  },
  {
   "cell_type": "code",
   "execution_count": 70,
   "metadata": {
    "collapsed": false
   },
   "outputs": [],
   "source": [
    "#define a function that prints model metrics\n",
    "\n",
    "from sklearn.metrics import r2_score, mean_absolute_error, median_absolute_error\n",
    "\n",
    "def print_metrics(target, prediction):\n",
    "    print('R^2 = {0}'.format(r2_score(target, prediction)))\n",
    "    print('Mean error = {0}'.format(mean_absolute_error(target, prediction)))\n",
    "    print('Median error = {0}'.format(median_absolute_error(target, prediction)))"
   ]
  },
  {
   "cell_type": "markdown",
   "metadata": {},
   "source": [
    "### Cross-validation\n",
    "\n",
    "Do the same as the above, but cross-validate the \"model\":"
   ]
  },
  {
   "cell_type": "code",
   "execution_count": 77,
   "metadata": {
    "collapsed": false
   },
   "outputs": [
    {
     "name": "stdout",
     "output_type": "stream",
     "text": [
      "Metrics in fold no 1\n",
      "R^2 = -0.95944096524616\n",
      "Mean error = 115.42844157679406\n",
      "Median error = 107.50524712329886\n",
      "\n",
      "Metrics in fold no 2\n",
      "R^2 = 0.3309889479021969\n",
      "Mean error = 220.0394192201971\n",
      "Median error = 132.86275985662448\n",
      "\n",
      "Metrics in fold no 3\n",
      "R^2 = 0.3418677193006461\n",
      "Mean error = 165.91219567801707\n",
      "Median error = 96.24293974444052\n",
      "\n",
      "Metrics in fold no 4\n",
      "R^2 = 0.42637942255718086\n",
      "Mean error = 130.24175642202022\n",
      "Median error = 106.39860581493052\n",
      "\n",
      "Metrics in fold no 5\n",
      "R^2 = 0.21190162163395132\n",
      "Mean error = 201.65492139499753\n",
      "Median error = 98.9767841560721\n",
      "\n"
     ]
    }
   ],
   "source": [
    "from sklearn import cross_validation\n",
    "\n",
    "kf = cross_validation.KFold(len(data_notnull), shuffle=True, n_folds=5)\n",
    "for i, (train_index, test_index) in enumerate(kf):\n",
    "    avg_homeless = (data_notnull.ix[train_index]['TOTAL_Presented_Young_ppl_2014']/data_notnull.ix[train_index]['LA_Population']).mean()\n",
    "    data_notnull.ix[test_index]['prediction'] = avg_homeless*data_notnull.ix[test_index]['LA_Population']\n",
    "    \n",
    "    print('Metrics in fold no {0}'.format(i+1))\n",
    "    print_metrics(data_notnull.ix[test_index]['TOTAL_Presented_Young_ppl_2014'], data_notnull.ix[test_index]['prediction'])\n",
    "    print()"
   ]
  },
  {
   "cell_type": "markdown",
   "metadata": {
    "collapsed": false
   },
   "source": [
    "Now, apply this **very rough** approximation to all English and Welsh districts:"
   ]
  },
  {
   "cell_type": "code",
   "execution_count": 78,
   "metadata": {
    "collapsed": false
   },
   "outputs": [],
   "source": [
    "baseline_prediction = DATA_ENG_WAL.copy()\n",
    "avg_homeless = (data_train['TOTAL_Presented_Young_ppl_2014']/data_train['LA_Population']).mean()\n",
    "baseline_prediction['predicted_presented'] = avg_homeless*baseline_prediction['LA_Population']"
   ]
  },
  {
   "cell_type": "code",
   "execution_count": 79,
   "metadata": {
    "collapsed": false
   },
   "outputs": [],
   "source": [
    "baseline_prediction.to_csv('baseline_prediction.csv', columns=['ONS_Census_2011', 'County_Name', 'predicted_presented'])"
   ]
  },
  {
   "cell_type": "markdown",
   "metadata": {
    "collapsed": true
   },
   "source": [
    "And the \"predicted\" number of homeless young people is..."
   ]
  },
  {
   "cell_type": "code",
   "execution_count": 80,
   "metadata": {
    "collapsed": false
   },
   "outputs": [
    {
     "name": "stdout",
     "output_type": "stream",
     "text": [
      "67606.2433462\n"
     ]
    }
   ],
   "source": [
    "print(baseline_prediction['predicted_presented'].sum())"
   ]
  }
 ],
 "metadata": {
  "kernelspec": {
   "display_name": "Python 3",
   "language": "python",
   "name": "python3"
  },
  "language_info": {
   "codemirror_mode": {
    "name": "ipython",
    "version": 3
   },
   "file_extension": ".py",
   "mimetype": "text/x-python",
   "name": "python",
   "nbconvert_exporter": "python",
   "pygments_lexer": "ipython3",
   "version": "3.4.3"
  }
 },
 "nbformat": 4,
 "nbformat_minor": 0
}
