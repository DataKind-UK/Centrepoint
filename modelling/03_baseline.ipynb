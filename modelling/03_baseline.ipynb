{
 "cells": [
  {
   "cell_type": "code",
   "execution_count": 2,
   "metadata": {
    "collapsed": true
   },
   "outputs": [],
   "source": [
    "import pandas as pd\n",
    "import numpy as np"
   ]
  },
  {
   "cell_type": "markdown",
   "metadata": {},
   "source": [
    "Read in the data:"
   ]
  },
  {
   "cell_type": "code",
   "execution_count": 3,
   "metadata": {
    "collapsed": false
   },
   "outputs": [],
   "source": [
    "DATA_RAW = pd.read_csv('../source data/new data/Presented_Clean_V6_Merged.csv')\n",
    "DATA_ENG_WAL = DATA_RAW[(DATA_RAW['ONS_CENSUS_2011'].str[0] == 'E') | (DATA_RAW['ONS_CENSUS_2011'].str[0] == 'W')]\n",
    "data_train = DATA_ENG_WAL[DATA_ENG_WAL['LA_POPULATION'].notnull()]\n",
    "#data_eng_nonan = data_eng_nonan[data_eng_nonan['Modifed_Total'].notnull()]"
   ]
  },
  {
   "cell_type": "markdown",
   "metadata": {},
   "source": [
    "The simplest, dumbest approximation: calculate the average proportion of \"Total presented persons\" to \"Local authority population\"."
   ]
  },
  {
   "cell_type": "code",
   "execution_count": 4,
   "metadata": {
    "collapsed": false
   },
   "outputs": [
    {
     "name": "stdout",
     "output_type": "stream",
     "text": [
      "0.00134531046955\n"
     ]
    }
   ],
   "source": [
    "avg_homeless = (data_train['Modifed_Total']/data_train['LA_POPULATION']).mean()\n",
    "print(avg_homeless)"
   ]
  },
  {
   "cell_type": "markdown",
   "metadata": {},
   "source": [
    "\"Predict\" the number of _presented_ persons as the (national) average homeless rate times local authority population: (`notnull()` is there because we are only interested in existing data, as we want to compare our prediction with them)"
   ]
  },
  {
   "cell_type": "code",
   "execution_count": 5,
   "metadata": {
    "collapsed": false
   },
   "outputs": [],
   "source": [
    "prediction = avg_homeless*data_train[data_train['Modifed_Total'].notnull()]['LA_POPULATION']"
   ]
  },
  {
   "cell_type": "code",
   "execution_count": 6,
   "metadata": {
    "collapsed": false
   },
   "outputs": [
    {
     "name": "stdout",
     "output_type": "stream",
     "text": [
      "R^2 = 0.40505833102009337\n",
      "Mean error = 156.4523060664268\n",
      "Median error = 106.6597312591262\n"
     ]
    }
   ],
   "source": [
    "from sklearn.metrics import r2_score, mean_absolute_error, median_absolute_error\n",
    "\n",
    "def print_metrics(target, prediction):\n",
    "    print('R^2 = {0}'.format(r2_score(target, prediction)))\n",
    "    print('Mean error = {0}'.format(mean_absolute_error(target, prediction)))\n",
    "    print('Median error = {0}'.format(median_absolute_error(target, prediction)))\n",
    "    \n",
    "print_metrics(data_train['Modifed_Total'].dropna(), prediction)"
   ]
  },
  {
   "cell_type": "markdown",
   "metadata": {
    "collapsed": false
   },
   "source": [
    "Now, apply this **very rough** approximation to all English and Welsh districts:"
   ]
  },
  {
   "cell_type": "code",
   "execution_count": 7,
   "metadata": {
    "collapsed": true
   },
   "outputs": [],
   "source": [
    "baseline_prediction = DATA_ENG_WAL.copy()\n",
    "baseline_prediction['predicted_presented'] = avg_homeless*baseline_prediction['LA_POPULATION']"
   ]
  },
  {
   "cell_type": "code",
   "execution_count": 8,
   "metadata": {
    "collapsed": false
   },
   "outputs": [],
   "source": [
    "baseline_prediction.to_csv('baseline_prediction.csv', columns=['ONS_CENSUS_2011', 'Local.Authority', 'predicted_presented'])"
   ]
  },
  {
   "cell_type": "markdown",
   "metadata": {
    "collapsed": true
   },
   "source": [
    "And the \"predicted\" number of homeless young people is..."
   ]
  },
  {
   "cell_type": "code",
   "execution_count": 10,
   "metadata": {
    "collapsed": false
   },
   "outputs": [
    {
     "name": "stdout",
     "output_type": "stream",
     "text": [
      "75686.55221\n"
     ]
    }
   ],
   "source": [
    "print(baseline_prediction['predicted_presented'].sum())"
   ]
  },
  {
   "cell_type": "code",
   "execution_count": null,
   "metadata": {
    "collapsed": true
   },
   "outputs": [],
   "source": []
  }
 ],
 "metadata": {
  "kernelspec": {
   "display_name": "Python 3",
   "language": "python",
   "name": "python3"
  },
  "language_info": {
   "codemirror_mode": {
    "name": "ipython",
    "version": 3
   },
   "file_extension": ".py",
   "mimetype": "text/x-python",
   "name": "python",
   "nbconvert_exporter": "python",
   "pygments_lexer": "ipython3",
   "version": "3.4.3"
  }
 },
 "nbformat": 4,
 "nbformat_minor": 0
}
